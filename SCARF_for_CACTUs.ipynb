{
  "cells": [
    {
      "cell_type": "markdown",
      "metadata": {
        "id": "view-in-github",
        "colab_type": "text"
      },
      "source": [
        "<a href=\"https://colab.research.google.com/github/wuphwu/IDS/blob/main/SCARF_for_CACTUs.ipynb\" target=\"_parent\"><img src=\"https://colab.research.google.com/assets/colab-badge.svg\" alt=\"Open In Colab\"/></a>"
      ]
    },
    {
      "cell_type": "markdown",
      "metadata": {
        "id": "TAOfx7pgaj8q"
      },
      "source": [
        "# SCARF + CACTUs Meta-Learning Pipeline\n",
        "\n",
        "這個 notebook 示範如何使用 SCARF 對 tabular data 預訓練 encoder，\n",
        "接著透過 CACTUs 利用 k-means clustering 建構 meta-learning 任務。"
      ]
    },
    {
      "cell_type": "markdown",
      "source": [
        "# 資料處理"
      ],
      "metadata": {
        "id": "1ak84e56f0Nc"
      }
    },
    {
      "source": [
        "# IMPORTANT: RUN THIS CELL IN ORDER TO IMPORT YOUR KAGGLE DATA SOURCES,\n",
        "# THEN FEEL FREE TO DELETE THIS CELL.\n",
        "# NOTE: THIS NOTEBOOK ENVIRONMENT DIFFERS FROM KAGGLE'S PYTHON\n",
        "# ENVIRONMENT SO THERE MAY BE MISSING LIBRARIES USED BY YOUR\n",
        "# NOTEBOOK.\n",
        "import kagglehub\n",
        "hassan06_nslkdd_path = kagglehub.dataset_download('hassan06/nslkdd')\n",
        "\n",
        "print('Data source import complete.')\n",
        "print(f\"資料集下載路徑：{hassan06_nslkdd_path}\")\n"
      ],
      "metadata": {
        "id": "J7nahT0NbIcF",
        "outputId": "54ef63d1-5221-4bcb-99a6-d498a72464d9",
        "colab": {
          "base_uri": "https://localhost:8080/"
        }
      },
      "cell_type": "code",
      "outputs": [
        {
          "output_type": "stream",
          "name": "stdout",
          "text": [
            "Data source import complete.\n",
            "資料集下載路徑：/kaggle/input/nslkdd\n"
          ]
        }
      ],
      "execution_count": 33
    },
    {
      "cell_type": "code",
      "source": [
        "import os\n",
        "\n",
        "# 使用下載的路徑來建構檔案的完整路徑\n",
        "file_path = os.path.join(hassan06_nslkdd_path, 'KDDTrain+.txt')"
      ],
      "metadata": {
        "id": "p4VGpIsHza-3"
      },
      "execution_count": 34,
      "outputs": []
    },
    {
      "cell_type": "code",
      "source": [
        "import os\n",
        "import pandas as pd\n",
        "# 使用下載的路徑來建構檔案的完整路徑\n",
        "file_path = os.path.join(hassan06_nslkdd_path, 'KDDTrain+.txt')\n",
        "\n",
        "df_0 = df_0 = pd.read_csv(file_path, sep=',', header=None, encoding='latin-1')\n",
        "df= df_0.copy()\n",
        "df.head() # 顯示資料集前五行"
      ],
      "metadata": {
        "colab": {
          "base_uri": "https://localhost:8080/",
          "height": 256
        },
        "outputId": "f379ab3a-46ca-4c52-a0af-0e96bdc448bd",
        "id": "_b1vIFrBhBBd"
      },
      "execution_count": 35,
      "outputs": [
        {
          "output_type": "execute_result",
          "data": {
            "text/plain": [
              "   0    1         2   3    4     5   6   7   8   9   ...    33    34    35  \\\n",
              "0   0  tcp  ftp_data  SF  491     0   0   0   0   0  ...  0.17  0.03  0.17   \n",
              "1   0  udp     other  SF  146     0   0   0   0   0  ...  0.00  0.60  0.88   \n",
              "2   0  tcp   private  S0    0     0   0   0   0   0  ...  0.10  0.05  0.00   \n",
              "3   0  tcp      http  SF  232  8153   0   0   0   0  ...  1.00  0.00  0.03   \n",
              "4   0  tcp      http  SF  199   420   0   0   0   0  ...  1.00  0.00  0.00   \n",
              "\n",
              "     36    37    38    39    40       41  42  \n",
              "0  0.00  0.00  0.00  0.05  0.00   normal  20  \n",
              "1  0.00  0.00  0.00  0.00  0.00   normal  15  \n",
              "2  0.00  1.00  1.00  0.00  0.00  neptune  19  \n",
              "3  0.04  0.03  0.01  0.00  0.01   normal  21  \n",
              "4  0.00  0.00  0.00  0.00  0.00   normal  21  \n",
              "\n",
              "[5 rows x 43 columns]"
            ],
            "text/html": [
              "\n",
              "  <div id=\"df-e2b6048a-25f6-49de-80e7-f3d7a31baefa\" class=\"colab-df-container\">\n",
              "    <div>\n",
              "<style scoped>\n",
              "    .dataframe tbody tr th:only-of-type {\n",
              "        vertical-align: middle;\n",
              "    }\n",
              "\n",
              "    .dataframe tbody tr th {\n",
              "        vertical-align: top;\n",
              "    }\n",
              "\n",
              "    .dataframe thead th {\n",
              "        text-align: right;\n",
              "    }\n",
              "</style>\n",
              "<table border=\"1\" class=\"dataframe\">\n",
              "  <thead>\n",
              "    <tr style=\"text-align: right;\">\n",
              "      <th></th>\n",
              "      <th>0</th>\n",
              "      <th>1</th>\n",
              "      <th>2</th>\n",
              "      <th>3</th>\n",
              "      <th>4</th>\n",
              "      <th>5</th>\n",
              "      <th>6</th>\n",
              "      <th>7</th>\n",
              "      <th>8</th>\n",
              "      <th>9</th>\n",
              "      <th>...</th>\n",
              "      <th>33</th>\n",
              "      <th>34</th>\n",
              "      <th>35</th>\n",
              "      <th>36</th>\n",
              "      <th>37</th>\n",
              "      <th>38</th>\n",
              "      <th>39</th>\n",
              "      <th>40</th>\n",
              "      <th>41</th>\n",
              "      <th>42</th>\n",
              "    </tr>\n",
              "  </thead>\n",
              "  <tbody>\n",
              "    <tr>\n",
              "      <th>0</th>\n",
              "      <td>0</td>\n",
              "      <td>tcp</td>\n",
              "      <td>ftp_data</td>\n",
              "      <td>SF</td>\n",
              "      <td>491</td>\n",
              "      <td>0</td>\n",
              "      <td>0</td>\n",
              "      <td>0</td>\n",
              "      <td>0</td>\n",
              "      <td>0</td>\n",
              "      <td>...</td>\n",
              "      <td>0.17</td>\n",
              "      <td>0.03</td>\n",
              "      <td>0.17</td>\n",
              "      <td>0.00</td>\n",
              "      <td>0.00</td>\n",
              "      <td>0.00</td>\n",
              "      <td>0.05</td>\n",
              "      <td>0.00</td>\n",
              "      <td>normal</td>\n",
              "      <td>20</td>\n",
              "    </tr>\n",
              "    <tr>\n",
              "      <th>1</th>\n",
              "      <td>0</td>\n",
              "      <td>udp</td>\n",
              "      <td>other</td>\n",
              "      <td>SF</td>\n",
              "      <td>146</td>\n",
              "      <td>0</td>\n",
              "      <td>0</td>\n",
              "      <td>0</td>\n",
              "      <td>0</td>\n",
              "      <td>0</td>\n",
              "      <td>...</td>\n",
              "      <td>0.00</td>\n",
              "      <td>0.60</td>\n",
              "      <td>0.88</td>\n",
              "      <td>0.00</td>\n",
              "      <td>0.00</td>\n",
              "      <td>0.00</td>\n",
              "      <td>0.00</td>\n",
              "      <td>0.00</td>\n",
              "      <td>normal</td>\n",
              "      <td>15</td>\n",
              "    </tr>\n",
              "    <tr>\n",
              "      <th>2</th>\n",
              "      <td>0</td>\n",
              "      <td>tcp</td>\n",
              "      <td>private</td>\n",
              "      <td>S0</td>\n",
              "      <td>0</td>\n",
              "      <td>0</td>\n",
              "      <td>0</td>\n",
              "      <td>0</td>\n",
              "      <td>0</td>\n",
              "      <td>0</td>\n",
              "      <td>...</td>\n",
              "      <td>0.10</td>\n",
              "      <td>0.05</td>\n",
              "      <td>0.00</td>\n",
              "      <td>0.00</td>\n",
              "      <td>1.00</td>\n",
              "      <td>1.00</td>\n",
              "      <td>0.00</td>\n",
              "      <td>0.00</td>\n",
              "      <td>neptune</td>\n",
              "      <td>19</td>\n",
              "    </tr>\n",
              "    <tr>\n",
              "      <th>3</th>\n",
              "      <td>0</td>\n",
              "      <td>tcp</td>\n",
              "      <td>http</td>\n",
              "      <td>SF</td>\n",
              "      <td>232</td>\n",
              "      <td>8153</td>\n",
              "      <td>0</td>\n",
              "      <td>0</td>\n",
              "      <td>0</td>\n",
              "      <td>0</td>\n",
              "      <td>...</td>\n",
              "      <td>1.00</td>\n",
              "      <td>0.00</td>\n",
              "      <td>0.03</td>\n",
              "      <td>0.04</td>\n",
              "      <td>0.03</td>\n",
              "      <td>0.01</td>\n",
              "      <td>0.00</td>\n",
              "      <td>0.01</td>\n",
              "      <td>normal</td>\n",
              "      <td>21</td>\n",
              "    </tr>\n",
              "    <tr>\n",
              "      <th>4</th>\n",
              "      <td>0</td>\n",
              "      <td>tcp</td>\n",
              "      <td>http</td>\n",
              "      <td>SF</td>\n",
              "      <td>199</td>\n",
              "      <td>420</td>\n",
              "      <td>0</td>\n",
              "      <td>0</td>\n",
              "      <td>0</td>\n",
              "      <td>0</td>\n",
              "      <td>...</td>\n",
              "      <td>1.00</td>\n",
              "      <td>0.00</td>\n",
              "      <td>0.00</td>\n",
              "      <td>0.00</td>\n",
              "      <td>0.00</td>\n",
              "      <td>0.00</td>\n",
              "      <td>0.00</td>\n",
              "      <td>0.00</td>\n",
              "      <td>normal</td>\n",
              "      <td>21</td>\n",
              "    </tr>\n",
              "  </tbody>\n",
              "</table>\n",
              "<p>5 rows × 43 columns</p>\n",
              "</div>\n",
              "    <div class=\"colab-df-buttons\">\n",
              "\n",
              "  <div class=\"colab-df-container\">\n",
              "    <button class=\"colab-df-convert\" onclick=\"convertToInteractive('df-e2b6048a-25f6-49de-80e7-f3d7a31baefa')\"\n",
              "            title=\"Convert this dataframe to an interactive table.\"\n",
              "            style=\"display:none;\">\n",
              "\n",
              "  <svg xmlns=\"http://www.w3.org/2000/svg\" height=\"24px\" viewBox=\"0 -960 960 960\">\n",
              "    <path d=\"M120-120v-720h720v720H120Zm60-500h600v-160H180v160Zm220 220h160v-160H400v160Zm0 220h160v-160H400v160ZM180-400h160v-160H180v160Zm440 0h160v-160H620v160ZM180-180h160v-160H180v160Zm440 0h160v-160H620v160Z\"/>\n",
              "  </svg>\n",
              "    </button>\n",
              "\n",
              "  <style>\n",
              "    .colab-df-container {\n",
              "      display:flex;\n",
              "      gap: 12px;\n",
              "    }\n",
              "\n",
              "    .colab-df-convert {\n",
              "      background-color: #E8F0FE;\n",
              "      border: none;\n",
              "      border-radius: 50%;\n",
              "      cursor: pointer;\n",
              "      display: none;\n",
              "      fill: #1967D2;\n",
              "      height: 32px;\n",
              "      padding: 0 0 0 0;\n",
              "      width: 32px;\n",
              "    }\n",
              "\n",
              "    .colab-df-convert:hover {\n",
              "      background-color: #E2EBFA;\n",
              "      box-shadow: 0px 1px 2px rgba(60, 64, 67, 0.3), 0px 1px 3px 1px rgba(60, 64, 67, 0.15);\n",
              "      fill: #174EA6;\n",
              "    }\n",
              "\n",
              "    .colab-df-buttons div {\n",
              "      margin-bottom: 4px;\n",
              "    }\n",
              "\n",
              "    [theme=dark] .colab-df-convert {\n",
              "      background-color: #3B4455;\n",
              "      fill: #D2E3FC;\n",
              "    }\n",
              "\n",
              "    [theme=dark] .colab-df-convert:hover {\n",
              "      background-color: #434B5C;\n",
              "      box-shadow: 0px 1px 3px 1px rgba(0, 0, 0, 0.15);\n",
              "      filter: drop-shadow(0px 1px 2px rgba(0, 0, 0, 0.3));\n",
              "      fill: #FFFFFF;\n",
              "    }\n",
              "  </style>\n",
              "\n",
              "    <script>\n",
              "      const buttonEl =\n",
              "        document.querySelector('#df-e2b6048a-25f6-49de-80e7-f3d7a31baefa button.colab-df-convert');\n",
              "      buttonEl.style.display =\n",
              "        google.colab.kernel.accessAllowed ? 'block' : 'none';\n",
              "\n",
              "      async function convertToInteractive(key) {\n",
              "        const element = document.querySelector('#df-e2b6048a-25f6-49de-80e7-f3d7a31baefa');\n",
              "        const dataTable =\n",
              "          await google.colab.kernel.invokeFunction('convertToInteractive',\n",
              "                                                    [key], {});\n",
              "        if (!dataTable) return;\n",
              "\n",
              "        const docLinkHtml = 'Like what you see? Visit the ' +\n",
              "          '<a target=\"_blank\" href=https://colab.research.google.com/notebooks/data_table.ipynb>data table notebook</a>'\n",
              "          + ' to learn more about interactive tables.';\n",
              "        element.innerHTML = '';\n",
              "        dataTable['output_type'] = 'display_data';\n",
              "        await google.colab.output.renderOutput(dataTable, element);\n",
              "        const docLink = document.createElement('div');\n",
              "        docLink.innerHTML = docLinkHtml;\n",
              "        element.appendChild(docLink);\n",
              "      }\n",
              "    </script>\n",
              "  </div>\n",
              "\n",
              "\n",
              "    <div id=\"df-46020d4f-ff28-41b2-93b9-2f6be0417d54\">\n",
              "      <button class=\"colab-df-quickchart\" onclick=\"quickchart('df-46020d4f-ff28-41b2-93b9-2f6be0417d54')\"\n",
              "                title=\"Suggest charts\"\n",
              "                style=\"display:none;\">\n",
              "\n",
              "<svg xmlns=\"http://www.w3.org/2000/svg\" height=\"24px\"viewBox=\"0 0 24 24\"\n",
              "     width=\"24px\">\n",
              "    <g>\n",
              "        <path d=\"M19 3H5c-1.1 0-2 .9-2 2v14c0 1.1.9 2 2 2h14c1.1 0 2-.9 2-2V5c0-1.1-.9-2-2-2zM9 17H7v-7h2v7zm4 0h-2V7h2v10zm4 0h-2v-4h2v4z\"/>\n",
              "    </g>\n",
              "</svg>\n",
              "      </button>\n",
              "\n",
              "<style>\n",
              "  .colab-df-quickchart {\n",
              "      --bg-color: #E8F0FE;\n",
              "      --fill-color: #1967D2;\n",
              "      --hover-bg-color: #E2EBFA;\n",
              "      --hover-fill-color: #174EA6;\n",
              "      --disabled-fill-color: #AAA;\n",
              "      --disabled-bg-color: #DDD;\n",
              "  }\n",
              "\n",
              "  [theme=dark] .colab-df-quickchart {\n",
              "      --bg-color: #3B4455;\n",
              "      --fill-color: #D2E3FC;\n",
              "      --hover-bg-color: #434B5C;\n",
              "      --hover-fill-color: #FFFFFF;\n",
              "      --disabled-bg-color: #3B4455;\n",
              "      --disabled-fill-color: #666;\n",
              "  }\n",
              "\n",
              "  .colab-df-quickchart {\n",
              "    background-color: var(--bg-color);\n",
              "    border: none;\n",
              "    border-radius: 50%;\n",
              "    cursor: pointer;\n",
              "    display: none;\n",
              "    fill: var(--fill-color);\n",
              "    height: 32px;\n",
              "    padding: 0;\n",
              "    width: 32px;\n",
              "  }\n",
              "\n",
              "  .colab-df-quickchart:hover {\n",
              "    background-color: var(--hover-bg-color);\n",
              "    box-shadow: 0 1px 2px rgba(60, 64, 67, 0.3), 0 1px 3px 1px rgba(60, 64, 67, 0.15);\n",
              "    fill: var(--button-hover-fill-color);\n",
              "  }\n",
              "\n",
              "  .colab-df-quickchart-complete:disabled,\n",
              "  .colab-df-quickchart-complete:disabled:hover {\n",
              "    background-color: var(--disabled-bg-color);\n",
              "    fill: var(--disabled-fill-color);\n",
              "    box-shadow: none;\n",
              "  }\n",
              "\n",
              "  .colab-df-spinner {\n",
              "    border: 2px solid var(--fill-color);\n",
              "    border-color: transparent;\n",
              "    border-bottom-color: var(--fill-color);\n",
              "    animation:\n",
              "      spin 1s steps(1) infinite;\n",
              "  }\n",
              "\n",
              "  @keyframes spin {\n",
              "    0% {\n",
              "      border-color: transparent;\n",
              "      border-bottom-color: var(--fill-color);\n",
              "      border-left-color: var(--fill-color);\n",
              "    }\n",
              "    20% {\n",
              "      border-color: transparent;\n",
              "      border-left-color: var(--fill-color);\n",
              "      border-top-color: var(--fill-color);\n",
              "    }\n",
              "    30% {\n",
              "      border-color: transparent;\n",
              "      border-left-color: var(--fill-color);\n",
              "      border-top-color: var(--fill-color);\n",
              "      border-right-color: var(--fill-color);\n",
              "    }\n",
              "    40% {\n",
              "      border-color: transparent;\n",
              "      border-right-color: var(--fill-color);\n",
              "      border-top-color: var(--fill-color);\n",
              "    }\n",
              "    60% {\n",
              "      border-color: transparent;\n",
              "      border-right-color: var(--fill-color);\n",
              "    }\n",
              "    80% {\n",
              "      border-color: transparent;\n",
              "      border-right-color: var(--fill-color);\n",
              "      border-bottom-color: var(--fill-color);\n",
              "    }\n",
              "    90% {\n",
              "      border-color: transparent;\n",
              "      border-bottom-color: var(--fill-color);\n",
              "    }\n",
              "  }\n",
              "</style>\n",
              "\n",
              "      <script>\n",
              "        async function quickchart(key) {\n",
              "          const quickchartButtonEl =\n",
              "            document.querySelector('#' + key + ' button');\n",
              "          quickchartButtonEl.disabled = true;  // To prevent multiple clicks.\n",
              "          quickchartButtonEl.classList.add('colab-df-spinner');\n",
              "          try {\n",
              "            const charts = await google.colab.kernel.invokeFunction(\n",
              "                'suggestCharts', [key], {});\n",
              "          } catch (error) {\n",
              "            console.error('Error during call to suggestCharts:', error);\n",
              "          }\n",
              "          quickchartButtonEl.classList.remove('colab-df-spinner');\n",
              "          quickchartButtonEl.classList.add('colab-df-quickchart-complete');\n",
              "        }\n",
              "        (() => {\n",
              "          let quickchartButtonEl =\n",
              "            document.querySelector('#df-46020d4f-ff28-41b2-93b9-2f6be0417d54 button');\n",
              "          quickchartButtonEl.style.display =\n",
              "            google.colab.kernel.accessAllowed ? 'block' : 'none';\n",
              "        })();\n",
              "      </script>\n",
              "    </div>\n",
              "\n",
              "    </div>\n",
              "  </div>\n"
            ],
            "application/vnd.google.colaboratory.intrinsic+json": {
              "type": "dataframe",
              "variable_name": "df"
            }
          },
          "metadata": {},
          "execution_count": 35
        }
      ]
    },
    {
      "cell_type": "code",
      "source": [
        "# 定義資料集的欄位名稱\n",
        "columns = (['duration'\n",
        ",'protocol_type'\n",
        ",'service'\n",
        ",'flag'\n",
        ",'src_bytes'\n",
        ",'dst_bytes'\n",
        ",'land'\n",
        ",'wrong_fragment'\n",
        ",'urgent'\n",
        ",'hot'\n",
        ",'num_failed_logins'\n",
        ",'logged_in'\n",
        ",'num_compromised'\n",
        ",'root_shell'\n",
        ",'su_attempted'\n",
        ",'num_root'\n",
        ",'num_file_creations'\n",
        ",'num_shells'\n",
        ",'num_access_files'\n",
        ",'num_outbound_cmds'\n",
        ",'is_host_login'\n",
        ",'is_guest_login'\n",
        ",'count'\n",
        ",'srv_count'\n",
        ",'serror_rate'\n",
        ",'srv_serror_rate'\n",
        ",'rerror_rate'\n",
        ",'srv_rerror_rate'\n",
        ",'same_srv_rate'\n",
        ",'diff_srv_rate'\n",
        ",'srv_diff_host_rate'\n",
        ",'dst_host_count'\n",
        ",'dst_host_srv_count'\n",
        ",'dst_host_same_srv_rate'\n",
        ",'dst_host_diff_srv_rate'\n",
        ",'dst_host_same_src_port_rate'\n",
        ",'dst_host_srv_diff_host_rate'\n",
        ",'dst_host_serror_rate'\n",
        ",'dst_host_srv_serror_rate'\n",
        ",'dst_host_rerror_rate'\n",
        ",'dst_host_srv_rerror_rate'\n",
        ",'attack'\n",
        ",'level'])\n",
        "\n",
        "df.columns = columns"
      ],
      "metadata": {
        "id": "mVVgYf6FbIcJ"
      },
      "execution_count": 36,
      "outputs": []
    },
    {
      "cell_type": "markdown",
      "source": [
        "# y lable one-hot encoding\n",
        "因應SCARF執行上的需要，進行attack欄位編碼,避免字串"
      ],
      "metadata": {
        "id": "uAEbPWlIMZ55"
      }
    },
    {
      "cell_type": "code",
      "source": [
        "# 用LabelEncoder()把y的資料轉換成整數型態\n",
        "from sklearn import preprocessing\n",
        "le=preprocessing.LabelEncoder()\n",
        "clm=['attack']\n",
        "for x in clm:\n",
        "    df[x]=le.fit_transform(df[x])"
      ],
      "metadata": {
        "id": "Fq4qg3eAbIcW"
      },
      "execution_count": 37,
      "outputs": []
    },
    {
      "cell_type": "markdown",
      "source": [
        "# 分割資料集"
      ],
      "metadata": {
        "id": "-TH8EYZyiPMk"
      }
    },
    {
      "cell_type": "code",
      "source": [
        "from sklearn.model_selection import train_test_split\n",
        "\n",
        "seed = 1234\n",
        "\n",
        "data = df.copy()\n",
        "data, target = data.drop(['level','attack'], axis=1), data[\"attack\"]\n",
        "train_data, test_data, train_target, test_target = train_test_split(\n",
        "    data, target, test_size=0.2, stratify=target, random_state=seed\n",
        ")"
      ],
      "metadata": {
        "id": "woe9YILi_Z4y"
      },
      "execution_count": 38,
      "outputs": []
    },
    {
      "cell_type": "markdown",
      "source": [
        "# 類別型欄位Frequency Encoding(要分割完測試資料再做)\n",
        "\n",
        "就是我們把Categorical Feature裡面每個類別出現的數量，當成他的數值。"
      ],
      "metadata": {
        "id": "tO4C9KcVSNmW"
      }
    },
    {
      "cell_type": "code",
      "source": [
        "!pip install category_encoders\n",
        "from category_encoders import CountEncoder"
      ],
      "metadata": {
        "colab": {
          "base_uri": "https://localhost:8080/"
        },
        "id": "BE-j_ad5SsGZ",
        "outputId": "515ac7cf-c99e-4116-d5c7-47842e4a9dd9"
      },
      "execution_count": 39,
      "outputs": [
        {
          "output_type": "stream",
          "name": "stdout",
          "text": [
            "Requirement already satisfied: category_encoders in /usr/local/lib/python3.11/dist-packages (2.8.1)\n",
            "Requirement already satisfied: numpy>=1.14.0 in /usr/local/lib/python3.11/dist-packages (from category_encoders) (2.0.2)\n",
            "Requirement already satisfied: pandas>=1.0.5 in /usr/local/lib/python3.11/dist-packages (from category_encoders) (2.2.2)\n",
            "Requirement already satisfied: patsy>=0.5.1 in /usr/local/lib/python3.11/dist-packages (from category_encoders) (1.0.1)\n",
            "Requirement already satisfied: scikit-learn>=1.6.0 in /usr/local/lib/python3.11/dist-packages (from category_encoders) (1.6.1)\n",
            "Requirement already satisfied: scipy>=1.0.0 in /usr/local/lib/python3.11/dist-packages (from category_encoders) (1.15.3)\n",
            "Requirement already satisfied: statsmodels>=0.9.0 in /usr/local/lib/python3.11/dist-packages (from category_encoders) (0.14.4)\n",
            "Requirement already satisfied: python-dateutil>=2.8.2 in /usr/local/lib/python3.11/dist-packages (from pandas>=1.0.5->category_encoders) (2.9.0.post0)\n",
            "Requirement already satisfied: pytz>=2020.1 in /usr/local/lib/python3.11/dist-packages (from pandas>=1.0.5->category_encoders) (2025.2)\n",
            "Requirement already satisfied: tzdata>=2022.7 in /usr/local/lib/python3.11/dist-packages (from pandas>=1.0.5->category_encoders) (2025.2)\n",
            "Requirement already satisfied: joblib>=1.2.0 in /usr/local/lib/python3.11/dist-packages (from scikit-learn>=1.6.0->category_encoders) (1.5.1)\n",
            "Requirement already satisfied: threadpoolctl>=3.1.0 in /usr/local/lib/python3.11/dist-packages (from scikit-learn>=1.6.0->category_encoders) (3.6.0)\n",
            "Requirement already satisfied: packaging>=21.3 in /usr/local/lib/python3.11/dist-packages (from statsmodels>=0.9.0->category_encoders) (24.2)\n",
            "Requirement already satisfied: six>=1.5 in /usr/local/lib/python3.11/dist-packages (from python-dateutil>=2.8.2->pandas>=1.0.5->category_encoders) (1.17.0)\n"
          ]
        }
      ]
    },
    {
      "cell_type": "code",
      "source": [
        "# use target encoding to encode categorical features\n",
        "categorical_features_to_encode = ['protocol_type', 'service', 'flag']\n",
        "enc = CountEncoder(cols=categorical_features_to_encode)\n",
        "\n",
        "# transform the datasets\n",
        "X_train_e = enc.fit_transform(train_data)\n",
        "X_test_e = enc.transform(test_data)"
      ],
      "metadata": {
        "id": "GDpUAFn_Scj9"
      },
      "execution_count": 40,
      "outputs": []
    },
    {
      "cell_type": "markdown",
      "source": [
        "# 特徵工程"
      ],
      "metadata": {
        "id": "Rnk3-1riisOe"
      }
    },
    {
      "cell_type": "code",
      "source": [
        "from sklearn.feature_selection import mutual_info_classif\n",
        "\n",
        "mutual_info = mutual_info_classif(X_train_e, train_target)\n",
        "mutual_info = pd.Series(mutual_info)\n",
        "mutual_info.index = X_train_e.columns\n",
        "mutual_info.sort_values(ascending=False)"
      ],
      "metadata": {
        "id": "2JFTQ1_hbIcW",
        "colab": {
          "base_uri": "https://localhost:8080/",
          "height": 1000
        },
        "outputId": "0959b36a-d342-47fc-fe8d-ce049434fe8d"
      },
      "execution_count": 41,
      "outputs": [
        {
          "output_type": "execute_result",
          "data": {
            "text/plain": [
              "src_bytes                      0.932717\n",
              "service                        0.762072\n",
              "flag                           0.676077\n",
              "diff_srv_rate                  0.657273\n",
              "same_srv_rate                  0.622332\n",
              "dst_host_diff_srv_rate         0.612758\n",
              "dst_host_same_srv_rate         0.563243\n",
              "count                          0.559766\n",
              "dst_host_srv_count             0.540867\n",
              "dst_bytes                      0.502502\n",
              "dst_host_serror_rate           0.498130\n",
              "serror_rate                    0.472859\n",
              "dst_host_srv_serror_rate       0.442909\n",
              "srv_serror_rate                0.423560\n",
              "dst_host_same_src_port_rate    0.386750\n",
              "logged_in                      0.355037\n",
              "dst_host_srv_diff_host_rate    0.328138\n",
              "srv_count                      0.298629\n",
              "dst_host_count                 0.295587\n",
              "protocol_type                  0.261518\n",
              "dst_host_rerror_rate           0.202669\n",
              "srv_diff_host_rate             0.187460\n",
              "dst_host_srv_rerror_rate       0.158069\n",
              "rerror_rate                    0.148728\n",
              "srv_rerror_rate                0.103734\n",
              "duration                       0.076581\n",
              "hot                            0.059503\n",
              "wrong_fragment                 0.054624\n",
              "num_compromised                0.042150\n",
              "is_guest_login                 0.011989\n",
              "num_access_files               0.003969\n",
              "su_attempted                   0.003617\n",
              "is_host_login                  0.003341\n",
              "num_shells                     0.003256\n",
              "num_file_creations             0.003044\n",
              "num_failed_logins              0.003018\n",
              "root_shell                     0.002089\n",
              "num_outbound_cmds              0.000891\n",
              "num_root                       0.000870\n",
              "land                           0.000122\n",
              "urgent                         0.000000\n",
              "dtype: float64"
            ],
            "text/html": [
              "<div>\n",
              "<style scoped>\n",
              "    .dataframe tbody tr th:only-of-type {\n",
              "        vertical-align: middle;\n",
              "    }\n",
              "\n",
              "    .dataframe tbody tr th {\n",
              "        vertical-align: top;\n",
              "    }\n",
              "\n",
              "    .dataframe thead th {\n",
              "        text-align: right;\n",
              "    }\n",
              "</style>\n",
              "<table border=\"1\" class=\"dataframe\">\n",
              "  <thead>\n",
              "    <tr style=\"text-align: right;\">\n",
              "      <th></th>\n",
              "      <th>0</th>\n",
              "    </tr>\n",
              "  </thead>\n",
              "  <tbody>\n",
              "    <tr>\n",
              "      <th>src_bytes</th>\n",
              "      <td>0.932717</td>\n",
              "    </tr>\n",
              "    <tr>\n",
              "      <th>service</th>\n",
              "      <td>0.762072</td>\n",
              "    </tr>\n",
              "    <tr>\n",
              "      <th>flag</th>\n",
              "      <td>0.676077</td>\n",
              "    </tr>\n",
              "    <tr>\n",
              "      <th>diff_srv_rate</th>\n",
              "      <td>0.657273</td>\n",
              "    </tr>\n",
              "    <tr>\n",
              "      <th>same_srv_rate</th>\n",
              "      <td>0.622332</td>\n",
              "    </tr>\n",
              "    <tr>\n",
              "      <th>dst_host_diff_srv_rate</th>\n",
              "      <td>0.612758</td>\n",
              "    </tr>\n",
              "    <tr>\n",
              "      <th>dst_host_same_srv_rate</th>\n",
              "      <td>0.563243</td>\n",
              "    </tr>\n",
              "    <tr>\n",
              "      <th>count</th>\n",
              "      <td>0.559766</td>\n",
              "    </tr>\n",
              "    <tr>\n",
              "      <th>dst_host_srv_count</th>\n",
              "      <td>0.540867</td>\n",
              "    </tr>\n",
              "    <tr>\n",
              "      <th>dst_bytes</th>\n",
              "      <td>0.502502</td>\n",
              "    </tr>\n",
              "    <tr>\n",
              "      <th>dst_host_serror_rate</th>\n",
              "      <td>0.498130</td>\n",
              "    </tr>\n",
              "    <tr>\n",
              "      <th>serror_rate</th>\n",
              "      <td>0.472859</td>\n",
              "    </tr>\n",
              "    <tr>\n",
              "      <th>dst_host_srv_serror_rate</th>\n",
              "      <td>0.442909</td>\n",
              "    </tr>\n",
              "    <tr>\n",
              "      <th>srv_serror_rate</th>\n",
              "      <td>0.423560</td>\n",
              "    </tr>\n",
              "    <tr>\n",
              "      <th>dst_host_same_src_port_rate</th>\n",
              "      <td>0.386750</td>\n",
              "    </tr>\n",
              "    <tr>\n",
              "      <th>logged_in</th>\n",
              "      <td>0.355037</td>\n",
              "    </tr>\n",
              "    <tr>\n",
              "      <th>dst_host_srv_diff_host_rate</th>\n",
              "      <td>0.328138</td>\n",
              "    </tr>\n",
              "    <tr>\n",
              "      <th>srv_count</th>\n",
              "      <td>0.298629</td>\n",
              "    </tr>\n",
              "    <tr>\n",
              "      <th>dst_host_count</th>\n",
              "      <td>0.295587</td>\n",
              "    </tr>\n",
              "    <tr>\n",
              "      <th>protocol_type</th>\n",
              "      <td>0.261518</td>\n",
              "    </tr>\n",
              "    <tr>\n",
              "      <th>dst_host_rerror_rate</th>\n",
              "      <td>0.202669</td>\n",
              "    </tr>\n",
              "    <tr>\n",
              "      <th>srv_diff_host_rate</th>\n",
              "      <td>0.187460</td>\n",
              "    </tr>\n",
              "    <tr>\n",
              "      <th>dst_host_srv_rerror_rate</th>\n",
              "      <td>0.158069</td>\n",
              "    </tr>\n",
              "    <tr>\n",
              "      <th>rerror_rate</th>\n",
              "      <td>0.148728</td>\n",
              "    </tr>\n",
              "    <tr>\n",
              "      <th>srv_rerror_rate</th>\n",
              "      <td>0.103734</td>\n",
              "    </tr>\n",
              "    <tr>\n",
              "      <th>duration</th>\n",
              "      <td>0.076581</td>\n",
              "    </tr>\n",
              "    <tr>\n",
              "      <th>hot</th>\n",
              "      <td>0.059503</td>\n",
              "    </tr>\n",
              "    <tr>\n",
              "      <th>wrong_fragment</th>\n",
              "      <td>0.054624</td>\n",
              "    </tr>\n",
              "    <tr>\n",
              "      <th>num_compromised</th>\n",
              "      <td>0.042150</td>\n",
              "    </tr>\n",
              "    <tr>\n",
              "      <th>is_guest_login</th>\n",
              "      <td>0.011989</td>\n",
              "    </tr>\n",
              "    <tr>\n",
              "      <th>num_access_files</th>\n",
              "      <td>0.003969</td>\n",
              "    </tr>\n",
              "    <tr>\n",
              "      <th>su_attempted</th>\n",
              "      <td>0.003617</td>\n",
              "    </tr>\n",
              "    <tr>\n",
              "      <th>is_host_login</th>\n",
              "      <td>0.003341</td>\n",
              "    </tr>\n",
              "    <tr>\n",
              "      <th>num_shells</th>\n",
              "      <td>0.003256</td>\n",
              "    </tr>\n",
              "    <tr>\n",
              "      <th>num_file_creations</th>\n",
              "      <td>0.003044</td>\n",
              "    </tr>\n",
              "    <tr>\n",
              "      <th>num_failed_logins</th>\n",
              "      <td>0.003018</td>\n",
              "    </tr>\n",
              "    <tr>\n",
              "      <th>root_shell</th>\n",
              "      <td>0.002089</td>\n",
              "    </tr>\n",
              "    <tr>\n",
              "      <th>num_outbound_cmds</th>\n",
              "      <td>0.000891</td>\n",
              "    </tr>\n",
              "    <tr>\n",
              "      <th>num_root</th>\n",
              "      <td>0.000870</td>\n",
              "    </tr>\n",
              "    <tr>\n",
              "      <th>land</th>\n",
              "      <td>0.000122</td>\n",
              "    </tr>\n",
              "    <tr>\n",
              "      <th>urgent</th>\n",
              "      <td>0.000000</td>\n",
              "    </tr>\n",
              "  </tbody>\n",
              "</table>\n",
              "</div><br><label><b>dtype:</b> float64</label>"
            ]
          },
          "metadata": {},
          "execution_count": 41
        }
      ]
    },
    {
      "cell_type": "code",
      "source": [
        "# **新增：根據 mutual_info 選擇前 30 個特徵**\n",
        "top_features = mutual_info.head(30).index\n",
        "\n",
        "# 使用選定的特徵來更新 X_train 和 X_test\n",
        "X_train = X_train_e[top_features]\n",
        "X_test = X_test_e[top_features]"
      ],
      "metadata": {
        "id": "ELliz8xBAbxl"
      },
      "execution_count": 42,
      "outputs": []
    },
    {
      "cell_type": "markdown",
      "source": [
        "# Scaling"
      ],
      "metadata": {
        "id": "No9kdRYgljno"
      }
    },
    {
      "cell_type": "code",
      "source": [
        "from sklearn.preprocessing import StandardScaler\n",
        "\n",
        "scaler = StandardScaler()\n",
        "\n",
        "X_train_s = scaler.fit_transform(X_train)\n",
        "X_test_s = scaler.transform(X_test)"
      ],
      "metadata": {
        "id": "d678ecsS-wFQ"
      },
      "execution_count": 43,
      "outputs": []
    },
    {
      "cell_type": "markdown",
      "source": [
        "# SCARF"
      ],
      "metadata": {
        "id": "6o_2_jx2hp-a"
      }
    },
    {
      "cell_type": "code",
      "source": [
        "!pip install git+https://github.com/wuphwu/pytorch-scarf.git\n",
        "!pip install torch"
      ],
      "metadata": {
        "colab": {
          "base_uri": "https://localhost:8080/"
        },
        "id": "YHowkq-Rop6c",
        "outputId": "98b991c8-ae17-4033-c45e-5f326f7a84df"
      },
      "execution_count": 44,
      "outputs": [
        {
          "output_type": "stream",
          "name": "stdout",
          "text": [
            "Collecting git+https://github.com/wuphwu/pytorch-scarf.git\n",
            "  Cloning https://github.com/wuphwu/pytorch-scarf.git to /tmp/pip-req-build-4oixm430\n",
            "  Running command git clone --filter=blob:none --quiet https://github.com/wuphwu/pytorch-scarf.git /tmp/pip-req-build-4oixm430\n",
            "  Resolved https://github.com/wuphwu/pytorch-scarf.git to commit 538be476bd57562f039e0638081e1998731bd86e\n",
            "  Installing build dependencies ... \u001b[?25l\u001b[?25hdone\n",
            "  Getting requirements to build wheel ... \u001b[?25l\u001b[?25hdone\n",
            "  Preparing metadata (pyproject.toml) ... \u001b[?25l\u001b[?25hdone\n",
            "Requirement already satisfied: torch in /usr/local/lib/python3.11/dist-packages (2.6.0+cu124)\n",
            "Requirement already satisfied: filelock in /usr/local/lib/python3.11/dist-packages (from torch) (3.18.0)\n",
            "Requirement already satisfied: typing-extensions>=4.10.0 in /usr/local/lib/python3.11/dist-packages (from torch) (4.14.0)\n",
            "Requirement already satisfied: networkx in /usr/local/lib/python3.11/dist-packages (from torch) (3.5)\n",
            "Requirement already satisfied: jinja2 in /usr/local/lib/python3.11/dist-packages (from torch) (3.1.6)\n",
            "Requirement already satisfied: fsspec in /usr/local/lib/python3.11/dist-packages (from torch) (2025.3.2)\n",
            "Requirement already satisfied: nvidia-cuda-nvrtc-cu12==12.4.127 in /usr/local/lib/python3.11/dist-packages (from torch) (12.4.127)\n",
            "Requirement already satisfied: nvidia-cuda-runtime-cu12==12.4.127 in /usr/local/lib/python3.11/dist-packages (from torch) (12.4.127)\n",
            "Requirement already satisfied: nvidia-cuda-cupti-cu12==12.4.127 in /usr/local/lib/python3.11/dist-packages (from torch) (12.4.127)\n",
            "Requirement already satisfied: nvidia-cudnn-cu12==9.1.0.70 in /usr/local/lib/python3.11/dist-packages (from torch) (9.1.0.70)\n",
            "Requirement already satisfied: nvidia-cublas-cu12==12.4.5.8 in /usr/local/lib/python3.11/dist-packages (from torch) (12.4.5.8)\n",
            "Requirement already satisfied: nvidia-cufft-cu12==11.2.1.3 in /usr/local/lib/python3.11/dist-packages (from torch) (11.2.1.3)\n",
            "Requirement already satisfied: nvidia-curand-cu12==10.3.5.147 in /usr/local/lib/python3.11/dist-packages (from torch) (10.3.5.147)\n",
            "Requirement already satisfied: nvidia-cusolver-cu12==11.6.1.9 in /usr/local/lib/python3.11/dist-packages (from torch) (11.6.1.9)\n",
            "Requirement already satisfied: nvidia-cusparse-cu12==12.3.1.170 in /usr/local/lib/python3.11/dist-packages (from torch) (12.3.1.170)\n",
            "Requirement already satisfied: nvidia-cusparselt-cu12==0.6.2 in /usr/local/lib/python3.11/dist-packages (from torch) (0.6.2)\n",
            "Requirement already satisfied: nvidia-nccl-cu12==2.21.5 in /usr/local/lib/python3.11/dist-packages (from torch) (2.21.5)\n",
            "Requirement already satisfied: nvidia-nvtx-cu12==12.4.127 in /usr/local/lib/python3.11/dist-packages (from torch) (12.4.127)\n",
            "Requirement already satisfied: nvidia-nvjitlink-cu12==12.4.127 in /usr/local/lib/python3.11/dist-packages (from torch) (12.4.127)\n",
            "Requirement already satisfied: triton==3.2.0 in /usr/local/lib/python3.11/dist-packages (from torch) (3.2.0)\n",
            "Requirement already satisfied: sympy==1.13.1 in /usr/local/lib/python3.11/dist-packages (from torch) (1.13.1)\n",
            "Requirement already satisfied: mpmath<1.4,>=1.1.0 in /usr/local/lib/python3.11/dist-packages (from sympy==1.13.1->torch) (1.3.0)\n",
            "Requirement already satisfied: MarkupSafe>=2.0 in /usr/local/lib/python3.11/dist-packages (from jinja2->torch) (3.0.2)\n"
          ]
        }
      ]
    },
    {
      "cell_type": "code",
      "source": [
        "# 1. 載入資料與必要套件\n",
        "import torch\n",
        "from torch.optim import Adam\n",
        "from scarf.loss import NTXent\n",
        "from scarf.model import SCARF\n",
        "from torch.utils.data import DataLoader\n",
        "import numpy as np # Import the numpy library\n",
        "from scarf.dataset import SCARFDataset\n"
      ],
      "metadata": {
        "id": "Mq4Zmcc6hvya"
      },
      "execution_count": 45,
      "outputs": []
    },
    {
      "cell_type": "code",
      "execution_count": 46,
      "metadata": {
        "colab": {
          "base_uri": "https://localhost:8080/"
        },
        "id": "uVTVAQHSaj8s",
        "outputId": "c6298d96-ba1d-4602-f236-94a001e49650"
      },
      "outputs": [
        {
          "output_type": "stream",
          "name": "stdout",
          "text": [
            "Train set: (100778, 30)\n",
            "Test set: (25195, 30)\n"
          ]
        }
      ],
      "source": [
        "# 2. to torch dataset\n",
        "train_ds = SCARFDataset(X_train_s, train_target.to_numpy())\n",
        "test_ds = SCARFDataset(X_test_s, test_target.to_numpy())\n",
        "\n",
        "print(f\"Train set: {train_ds.shape}\")\n",
        "print(f\"Test set: {test_ds.shape}\")"
      ]
    },
    {
      "cell_type": "markdown",
      "source": [
        "| 參數名稱                            | 所屬網路             | 說明                                  |\n",
        "| ------------------------------- | ---------------- | ----------------------------------- |\n",
        "| `input_dim`                     | `f`              | 輸入資料的特徵數，即原始 tabular 資料的維度          |\n",
        "| `dim_hidden_encoder`            | `f`              | encoder（`f`）每層隱藏層的維度                |\n",
        "| `num_hidden_encoder`            | `f`              | encoder（`f`）的隱藏層數量                  |\n",
        "| `dim_hidden_head`               | `g`              | projection head（`g`）每層隱藏層的維度        |\n",
        "| `num_hidden_head`               | `g`              | projection head（`g`）的層數             |\n",
        "| `features_low`, `features_high` | 🚫與網路結構無關        | 指示哪些欄位是連續變數、離散變數（通常用來處理破壞策略）        |\n",
        "| `corruption_rate`               | 🚫與網路結構無關        | SCARF 特有的參數，表示特徵破壞的比例（用於產生自監督 view） |\n",
        "| `dropout`                       | `f` + `g`（視實作而定） | 用於正則化，可能同時應用在 encoder 和 head 中      |\n"
      ],
      "metadata": {
        "id": "6Jee_kjbrF_0"
      }
    },
    {
      "cell_type": "code",
      "source": [
        "# 首先確保安裝了 pytorch-lightning\n",
        "# 如果還沒安裝，請執行下面的指令\n",
        "!pip install pytorch_lightning"
      ],
      "metadata": {
        "colab": {
          "base_uri": "https://localhost:8080/"
        },
        "id": "LbVDCE833aQP",
        "outputId": "39db2f9a-dc53-4c68-a431-5652f1c7bb18"
      },
      "execution_count": 47,
      "outputs": [
        {
          "output_type": "stream",
          "name": "stdout",
          "text": [
            "Requirement already satisfied: pytorch_lightning in /usr/local/lib/python3.11/dist-packages (2.5.1.post0)\n",
            "Requirement already satisfied: torch>=2.1.0 in /usr/local/lib/python3.11/dist-packages (from pytorch_lightning) (2.6.0+cu124)\n",
            "Requirement already satisfied: tqdm>=4.57.0 in /usr/local/lib/python3.11/dist-packages (from pytorch_lightning) (4.67.1)\n",
            "Requirement already satisfied: PyYAML>=5.4 in /usr/local/lib/python3.11/dist-packages (from pytorch_lightning) (6.0.2)\n",
            "Requirement already satisfied: fsspec>=2022.5.0 in /usr/local/lib/python3.11/dist-packages (from fsspec[http]>=2022.5.0->pytorch_lightning) (2025.3.2)\n",
            "Requirement already satisfied: torchmetrics>=0.7.0 in /usr/local/lib/python3.11/dist-packages (from pytorch_lightning) (1.7.2)\n",
            "Requirement already satisfied: packaging>=20.0 in /usr/local/lib/python3.11/dist-packages (from pytorch_lightning) (24.2)\n",
            "Requirement already satisfied: typing-extensions>=4.4.0 in /usr/local/lib/python3.11/dist-packages (from pytorch_lightning) (4.14.0)\n",
            "Requirement already satisfied: lightning-utilities>=0.10.0 in /usr/local/lib/python3.11/dist-packages (from pytorch_lightning) (0.14.3)\n",
            "Requirement already satisfied: aiohttp!=4.0.0a0,!=4.0.0a1 in /usr/local/lib/python3.11/dist-packages (from fsspec[http]>=2022.5.0->pytorch_lightning) (3.11.15)\n",
            "Requirement already satisfied: setuptools in /usr/local/lib/python3.11/dist-packages (from lightning-utilities>=0.10.0->pytorch_lightning) (75.2.0)\n",
            "Requirement already satisfied: filelock in /usr/local/lib/python3.11/dist-packages (from torch>=2.1.0->pytorch_lightning) (3.18.0)\n",
            "Requirement already satisfied: networkx in /usr/local/lib/python3.11/dist-packages (from torch>=2.1.0->pytorch_lightning) (3.5)\n",
            "Requirement already satisfied: jinja2 in /usr/local/lib/python3.11/dist-packages (from torch>=2.1.0->pytorch_lightning) (3.1.6)\n",
            "Requirement already satisfied: nvidia-cuda-nvrtc-cu12==12.4.127 in /usr/local/lib/python3.11/dist-packages (from torch>=2.1.0->pytorch_lightning) (12.4.127)\n",
            "Requirement already satisfied: nvidia-cuda-runtime-cu12==12.4.127 in /usr/local/lib/python3.11/dist-packages (from torch>=2.1.0->pytorch_lightning) (12.4.127)\n",
            "Requirement already satisfied: nvidia-cuda-cupti-cu12==12.4.127 in /usr/local/lib/python3.11/dist-packages (from torch>=2.1.0->pytorch_lightning) (12.4.127)\n",
            "Requirement already satisfied: nvidia-cudnn-cu12==9.1.0.70 in /usr/local/lib/python3.11/dist-packages (from torch>=2.1.0->pytorch_lightning) (9.1.0.70)\n",
            "Requirement already satisfied: nvidia-cublas-cu12==12.4.5.8 in /usr/local/lib/python3.11/dist-packages (from torch>=2.1.0->pytorch_lightning) (12.4.5.8)\n",
            "Requirement already satisfied: nvidia-cufft-cu12==11.2.1.3 in /usr/local/lib/python3.11/dist-packages (from torch>=2.1.0->pytorch_lightning) (11.2.1.3)\n",
            "Requirement already satisfied: nvidia-curand-cu12==10.3.5.147 in /usr/local/lib/python3.11/dist-packages (from torch>=2.1.0->pytorch_lightning) (10.3.5.147)\n",
            "Requirement already satisfied: nvidia-cusolver-cu12==11.6.1.9 in /usr/local/lib/python3.11/dist-packages (from torch>=2.1.0->pytorch_lightning) (11.6.1.9)\n",
            "Requirement already satisfied: nvidia-cusparse-cu12==12.3.1.170 in /usr/local/lib/python3.11/dist-packages (from torch>=2.1.0->pytorch_lightning) (12.3.1.170)\n",
            "Requirement already satisfied: nvidia-cusparselt-cu12==0.6.2 in /usr/local/lib/python3.11/dist-packages (from torch>=2.1.0->pytorch_lightning) (0.6.2)\n",
            "Requirement already satisfied: nvidia-nccl-cu12==2.21.5 in /usr/local/lib/python3.11/dist-packages (from torch>=2.1.0->pytorch_lightning) (2.21.5)\n",
            "Requirement already satisfied: nvidia-nvtx-cu12==12.4.127 in /usr/local/lib/python3.11/dist-packages (from torch>=2.1.0->pytorch_lightning) (12.4.127)\n",
            "Requirement already satisfied: nvidia-nvjitlink-cu12==12.4.127 in /usr/local/lib/python3.11/dist-packages (from torch>=2.1.0->pytorch_lightning) (12.4.127)\n",
            "Requirement already satisfied: triton==3.2.0 in /usr/local/lib/python3.11/dist-packages (from torch>=2.1.0->pytorch_lightning) (3.2.0)\n",
            "Requirement already satisfied: sympy==1.13.1 in /usr/local/lib/python3.11/dist-packages (from torch>=2.1.0->pytorch_lightning) (1.13.1)\n",
            "Requirement already satisfied: mpmath<1.4,>=1.1.0 in /usr/local/lib/python3.11/dist-packages (from sympy==1.13.1->torch>=2.1.0->pytorch_lightning) (1.3.0)\n",
            "Requirement already satisfied: numpy>1.20.0 in /usr/local/lib/python3.11/dist-packages (from torchmetrics>=0.7.0->pytorch_lightning) (2.0.2)\n",
            "Requirement already satisfied: aiohappyeyeballs>=2.3.0 in /usr/local/lib/python3.11/dist-packages (from aiohttp!=4.0.0a0,!=4.0.0a1->fsspec[http]>=2022.5.0->pytorch_lightning) (2.6.1)\n",
            "Requirement already satisfied: aiosignal>=1.1.2 in /usr/local/lib/python3.11/dist-packages (from aiohttp!=4.0.0a0,!=4.0.0a1->fsspec[http]>=2022.5.0->pytorch_lightning) (1.3.2)\n",
            "Requirement already satisfied: attrs>=17.3.0 in /usr/local/lib/python3.11/dist-packages (from aiohttp!=4.0.0a0,!=4.0.0a1->fsspec[http]>=2022.5.0->pytorch_lightning) (25.3.0)\n",
            "Requirement already satisfied: frozenlist>=1.1.1 in /usr/local/lib/python3.11/dist-packages (from aiohttp!=4.0.0a0,!=4.0.0a1->fsspec[http]>=2022.5.0->pytorch_lightning) (1.6.0)\n",
            "Requirement already satisfied: multidict<7.0,>=4.5 in /usr/local/lib/python3.11/dist-packages (from aiohttp!=4.0.0a0,!=4.0.0a1->fsspec[http]>=2022.5.0->pytorch_lightning) (6.4.4)\n",
            "Requirement already satisfied: propcache>=0.2.0 in /usr/local/lib/python3.11/dist-packages (from aiohttp!=4.0.0a0,!=4.0.0a1->fsspec[http]>=2022.5.0->pytorch_lightning) (0.3.1)\n",
            "Requirement already satisfied: yarl<2.0,>=1.17.0 in /usr/local/lib/python3.11/dist-packages (from aiohttp!=4.0.0a0,!=4.0.0a1->fsspec[http]>=2022.5.0->pytorch_lightning) (1.20.0)\n",
            "Requirement already satisfied: MarkupSafe>=2.0 in /usr/local/lib/python3.11/dist-packages (from jinja2->torch>=2.1.0->pytorch_lightning) (3.0.2)\n",
            "Requirement already satisfied: idna>=2.0 in /usr/local/lib/python3.11/dist-packages (from yarl<2.0,>=1.17.0->aiohttp!=4.0.0a0,!=4.0.0a1->fsspec[http]>=2022.5.0->pytorch_lightning) (3.10)\n"
          ]
        }
      ]
    },
    {
      "cell_type": "markdown",
      "source": [
        "# dim_hidden_encoder 選擇\n",
        "\n",
        "| 嵌入維度     | 建議    | 適用情境      | 備註                     |\n",
        "| -------- | ----- | --------- | ---------------------- |\n",
        "| **15**   | ✅ 可行  | 保持原維度     | 若你想與原資料對比              |\n",
        "| **32**   | ✅ 推薦  | 通用設定      | 充分保留結構又避免維度詛咒          |\n",
        "| **64**   | ✅ 推薦  | 當資料量夠大    | 提升表達能力                 |\n",
        "| **128+** | ⚠️ 小心 | 僅適合樣本數很多時 | 否則會過擬合 & clustering 崩潰 |\n",
        "| **< 15** | ✅ 可測試 | 若你想降維壓縮資訊 | 注意避免損失語義結構             |\n"
      ],
      "metadata": {
        "id": "cPm5tLKJDgVF"
      }
    },
    {
      "cell_type": "code",
      "source": [
        "import torch\n",
        "from torch.optim import Adam\n",
        "from scarf.loss import NTXent\n",
        "from scarf.model import SCARF\n",
        "from torch.utils.data import DataLoader\n",
        "import numpy as np\n",
        "from scarf.dataset import SCARFDataset\n",
        "import pytorch_lightning as pl\n",
        "from pytorch_lightning import Trainer\n",
        "from torch.utils.data import Dataset # 確認有匯入 Dataset\n",
        "\n",
        "# ✅ 3. 將 SCARF 模型包裝成 PyTorch Lightning Module\n",
        "class SCARFLightning(pl.LightningModule):\n",
        "    def __init__(self, input_dim, dim_hidden_encoder, num_hidden_encoder,\n",
        "                 dim_hidden_head, num_hidden_head, features_low, features_high,\n",
        "                 corruption_rate, dropout, learning_rate=0.001):\n",
        "        super().__init__()\n",
        "        # 保存超參數\n",
        "        self.save_hyperparameters()\n",
        "\n",
        "        # 初始化 SCARF 模型\n",
        "        self.scarf_model = SCARF(\n",
        "            input_dim=input_dim,\n",
        "            dim_hidden_encoder=dim_hidden_encoder,\n",
        "            num_hidden_encoder=num_hidden_encoder,\n",
        "            dim_hidden_head=dim_hidden_head,\n",
        "            num_hidden_head=num_hidden_head,\n",
        "            features_low=features_low,\n",
        "            features_high=features_high,\n",
        "            corruption_rate=corruption_rate,\n",
        "            dropout=dropout\n",
        "        )\n",
        "\n",
        "        # 初始化損失函數\n",
        "        self.criterion = NTXent()\n",
        "\n",
        "    def forward(self, x):\n",
        "        # LightningModule 通常只需要實現一步 forward\n",
        "        # 訓練步會在 training_step 中處理\n",
        "        emb_anchor, emb_positive = self.scarf_model(x)\n",
        "        return emb_anchor, emb_positive\n",
        "\n",
        "    def training_step(self, batch, batch_idx):\n",
        "        # 訓練的單一步驟\n",
        "        x = batch # SCARFDataset 只回傳 data，沒有 target 在訓練中直接使用\n",
        "        emb_anchor, emb_positive = self.forward(x)\n",
        "        loss = self.criterion(emb_anchor, emb_positive)\n",
        "        self.log('train_loss', loss) # 記錄訓練損失\n",
        "        return loss\n",
        "\n",
        "    def configure_optimizers(self):\n",
        "        # 配置優化器\n",
        "        optimizer = Adam(self.parameters(), lr=self.hparams.learning_rate, weight_decay=1e-4)\n",
        "        return optimizer\n",
        "\n",
        "# ✅ 4. (可選) 將資料集和 DataLoader 包裝成 PyTorch Lightning DataModule\n",
        "# 這不是必須的，但對於更複雜的資料 pipeline 很有用\n",
        "class SCARFDataModule(pl.LightningDataModule):\n",
        "    def __init__(self, train_dataset: Dataset, test_dataset: Dataset, batch_size: int = 128):\n",
        "        super().__init__()\n",
        "        self.train_dataset = train_dataset\n",
        "        self.test_dataset = test_dataset\n",
        "        self.batch_size = batch_size\n",
        "\n",
        "    def train_dataloader(self):\n",
        "        return DataLoader(self.train_dataset, batch_size=self.batch_size, shuffle=True)\n",
        "\n",
        "    def val_dataloader(self):\n",
        "        # SCARF 預訓練通常沒有驗證集，可以回傳 None 或測試集 DataLoader\n",
        "        # 我們在這裡使用測試集作為驗證，但要注意這不是真正的驗證過程\n",
        "        return DataLoader(self.test_dataset, batch_size=self.batch_size)\n",
        "\n",
        "# 檢查訓練資料是否有常數特徵 (標準差為 0)\n",
        "stds = np.std(X_train_s, axis=0)\n",
        "constant_features_indices = np.where(stds == 0)[0]\n",
        "\n",
        "if len(constant_features_indices) > 0:\n",
        "    print(f\"Warning: Found {len(constant_features_indices)} constant features in training data.\")\n",
        "    print(f\"Removing features at indices: {constant_features_indices}\")\n",
        "\n",
        "    # 移除常數特徵\n",
        "    X_train_s_filtered = np.delete(X_train_s, constant_features_indices, axis=1)\n",
        "    X_test_s_filtered = np.delete(X_test_s, constant_features_indices, axis=1)\n",
        "else:\n",
        "    X_train_s_filtered = X_train_s\n",
        "    X_test_s_filtered = X_test_s\n",
        "\n",
        "# 使用過濾後的資料創建 SCARFDataset\n",
        "train_ds = SCARFDataset(X_train_s_filtered, train_target.to_numpy())\n",
        "test_ds = SCARFDataset(X_test_s_filtered, test_target.to_numpy())\n",
        "\n",
        "print(f\"Filtered Train set: {train_ds.shape}\")\n",
        "print(f\"Filtered Test set: {test_ds.shape}\")\n",
        "\n",
        "\n",
        "# ✅ 5. 實例化模型和 DataModule\n",
        "batch_size = 128\n",
        "epochs = 1000\n",
        "\n",
        "# 實例化 Lightning Module\n",
        "pl_scarf = SCARFLightning(\n",
        "    input_dim=train_ds.shape[1],\n",
        "    dim_hidden_encoder=64,\n",
        "    num_hidden_encoder=3,\n",
        "    dim_hidden_head=64,\n",
        "    num_hidden_head=3,\n",
        "    features_low=train_ds.features_low, # 假設 features_low 和 features_high 在 SCARFDataset 中正確計算\n",
        "    features_high=train_ds.features_high,\n",
        "    corruption_rate=0.6,\n",
        "    dropout=0.1,\n",
        "    learning_rate=0.001 # 設置學習率\n",
        ")\n",
        "\n",
        "# 實例化 DataModule\n",
        "datamodule = SCARFDataModule(train_ds, test_ds, batch_size=batch_size)\n",
        "\n",
        "# ✅ 6. 使用 PyTorch Lightning Trainer 進行訓練\n",
        "# 設置 Trainer，指定使用 'gpu' 加速\n",
        "# 如果您有多個 GPU，可以指定 devices=n (n為GPU數量) 或 devices=[0, 1] 等\n",
        "# 如果您確定有 GPU，可以直接寫 accelerator='gpu'\n",
        "# 如果您想讓 Lightning 自動偵測和使用所有可用 GPU，可以寫 accelerator='gpu', devices='auto'\n",
        "trainer = pl.Trainer(\n",
        "    accelerator='gpu',        # 指定使用 GPU\n",
        "    #devices=1 if torch.cuda.is_available() else 'auto', # 指定使用 1 個 GPU 如果可用，否則自動偵測 (如果沒有 GPU，會回到 CPU)\n",
        "    max_epochs=epochs,\n",
        "    # num_sanity_val_steps=0,  # 在預訓練中通常不需要驗證步\n",
        "    # logger=None,             # 預設會使用 TensorBoard Logger，如果不需要可以設為 None\n",
        "    # enable_checkpointing=False # 預設會儲存檢查點，如果不需要可以設為 False\n",
        "    log_every_n_steps=50 # 可以設定每隔多少個訓練步驟記錄一次損失，預設是 50 [1, 2]\n",
        ")\n",
        "\n",
        "# 開始訓練\n",
        "trainer.fit(pl_scarf, datamodule)\n",
        "\n",
        "# ✅ 7. 儲存訓練好的 encoder 權重 (從 Lightning Module 中取出模型)\n",
        "# 可以直接訪問 Lightning Module 中的 scarf_model 的 encoder\n",
        "torch.save(pl_scarf.scarf_model.encoder.state_dict(), \"encoder_f_lightning.pth\")\n",
        "\n",
        "print(\"SCARF pre-training finished using PyTorch Lightning.\")\n",
        "\n",
        "# 如果你想繪製損失，可以從 trainer.callback_metrics 中獲取，或者使用 logger\n",
        "# (這裡省略繪圖部分，因為需要配置 logger)"
      ],
      "metadata": {
        "colab": {
          "base_uri": "https://localhost:8080/",
          "height": 498,
          "referenced_widgets": [
            "0c5907d243f64a0ba43ad8ee80328a27",
            "10fb03bc73f74f05bca036c7a7faa64c",
            "684fc3dfc7404f07ab4056d701e4a2bb",
            "d31a4c914fdf4bee84854c6782ba4f5f",
            "7c72ce8c282841d6b8a4ebee421f5a2d",
            "c596af84823b4b36b0a6289c1557f625",
            "34a2cded2eb14f3bb538eec5163ba4c2",
            "d884879c942a4da89911b6447d6340d0",
            "3a5e51415756469c8c918b633dc0eb33",
            "4d566029b51846f4b6dc04de6f73fbd5",
            "1b86386223d74c1eb7b5b1bc3a71db13"
          ]
        },
        "id": "lrs1Bn9q3imo",
        "outputId": "ea7310b4-3b39-4b71-a5a5-0bacb2b42c8d"
      },
      "execution_count": 48,
      "outputs": [
        {
          "metadata": {
            "tags": null
          },
          "name": "stderr",
          "output_type": "stream",
          "text": [
            "INFO:pytorch_lightning.utilities.rank_zero:Using default `ModelCheckpoint`. Consider installing `litmodels` package to enable `LitModelCheckpoint` for automatic upload to the Lightning model registry.\n",
            "INFO:pytorch_lightning.utilities.rank_zero:GPU available: True (cuda), used: True\n",
            "INFO:pytorch_lightning.utilities.rank_zero:TPU available: False, using: 0 TPU cores\n",
            "INFO:pytorch_lightning.utilities.rank_zero:HPU available: False, using: 0 HPUs\n"
          ]
        },
        {
          "metadata": {
            "tags": null
          },
          "name": "stdout",
          "output_type": "stream",
          "text": [
            "Warning: Found 1 constant features in training data.\n",
            "Removing features at indices: [19]\n",
            "Filtered Train set: (100778, 29)\n",
            "Filtered Test set: (25195, 29)\n"
          ]
        },
        {
          "metadata": {
            "tags": null
          },
          "name": "stderr",
          "output_type": "stream",
          "text": [
            "/usr/local/lib/python3.11/dist-packages/pytorch_lightning/trainer/configuration_validator.py:68: You passed in a `val_dataloader` but have no `validation_step`. Skipping val loop.\n",
            "INFO:pytorch_lightning.accelerators.cuda:LOCAL_RANK: 0 - CUDA_VISIBLE_DEVICES: [0]\n",
            "INFO:pytorch_lightning.callbacks.model_summary:\n",
            "  | Name        | Type   | Params | Mode \n",
            "-----------------------------------------------\n",
            "0 | scarf_model | SCARF  | 23.2 K | train\n",
            "1 | criterion   | NTXent | 0      | train\n",
            "-----------------------------------------------\n",
            "23.2 K    Trainable params\n",
            "0         Non-trainable params\n",
            "23.2 K    Total params\n",
            "0.093     Total estimated model params size (MB)\n",
            "22        Modules in train mode\n",
            "0         Modules in eval mode\n"
          ]
        },
        {
          "data": {
            "application/vnd.jupyter.widget-view+json": {
              "model_id": "0c5907d243f64a0ba43ad8ee80328a27",
              "version_major": 2,
              "version_minor": 0
            },
            "text/plain": [
              "Training: |          | 0/? [00:00<?, ?it/s]"
            ]
          },
          "metadata": {},
          "output_type": "display_data"
        },
        {
          "output_type": "stream",
          "name": "stderr",
          "text": [
            "INFO:pytorch_lightning.utilities.rank_zero:`Trainer.fit` stopped: `max_epochs=1000` reached.\n"
          ]
        },
        {
          "output_type": "stream",
          "name": "stdout",
          "text": [
            "SCARF pre-training finished using PyTorch Lightning.\n"
          ]
        }
      ]
    },
    {
      "cell_type": "markdown",
      "source": [
        "# 待補繪製損失函數下降的圖"
      ],
      "metadata": {
        "id": "BjN7iZL0hhIo"
      }
    },
    {
      "cell_type": "code",
      "source": [
        "# 訓練結束後，損失和其他 metrics 會記錄在 logs/scarf_training/version_*/metrics.csv 文件中\n",
        "# 您可以使用 pandas 讀取這個文件來繪製損失曲線"
      ],
      "metadata": {
        "id": "G013f6_N7gdG"
      },
      "execution_count": 49,
      "outputs": []
    },
    {
      "cell_type": "code",
      "source": [
        "'''\n",
        "import matplotlib.pyplot as plt\n",
        "fig, ax = plt.subplots(figsize=(10, 5))\n",
        "ax.plot(loss_history)\n",
        "ax.set_xlabel(\"epoch\")\n",
        "ax.set_ylabel(\"loss\")\n",
        "'''"
      ],
      "metadata": {
        "colab": {
          "base_uri": "https://localhost:8080/",
          "height": 53
        },
        "id": "R0wpuEg0B6Gl",
        "outputId": "c5011966-04ca-48f6-c0ac-6d5d1861fa7e"
      },
      "execution_count": 50,
      "outputs": [
        {
          "data": {
            "application/vnd.google.colaboratory.intrinsic+json": {
              "type": "string"
            },
            "text/plain": [
              "'\\nimport matplotlib.pyplot as plt\\nfig, ax = plt.subplots(figsize=(10, 5))\\nax.plot(loss_history)\\nax.set_xlabel(\"epoch\")\\nax.set_ylabel(\"loss\")\\n'"
            ]
          },
          "execution_count": 50,
          "metadata": {},
          "output_type": "execute_result"
        }
      ]
    },
    {
      "cell_type": "markdown",
      "source": [
        "# 取得train_ds的embeddings"
      ],
      "metadata": {
        "id": "MbTuICTCht5j"
      }
    },
    {
      "cell_type": "code",
      "source": [
        "'''\n",
        "# 重新載入 f()（在其他地方用）\n",
        "# 你必須重新建立 encoder 架構（要一樣的超參數）\n",
        "encoder = Encoder(\n",
        "    input_dim=train_ds.shape[1],\n",
        "    dim_hidden=64,\n",
        "    num_hidden=3,\n",
        "    dropout=0.1\n",
        ").to(device)\n",
        "\n",
        "encoder.load_state_dict(torch.load(\"encoder_f.pth\"))\n",
        "encoder.eval()  # 推論用\n",
        "'''"
      ],
      "metadata": {
        "colab": {
          "base_uri": "https://localhost:8080/",
          "height": 89
        },
        "id": "bBCl5xKB0a7E",
        "outputId": "3950e9e7-b9b1-438d-ae55-50b78478c215"
      },
      "execution_count": 51,
      "outputs": [
        {
          "data": {
            "application/vnd.google.colaboratory.intrinsic+json": {
              "type": "string"
            },
            "text/plain": [
              "'\\n# 重新載入 f()（在其他地方用）\\n# 你必須重新建立 encoder 架構（要一樣的超參數）\\nencoder = Encoder(\\n    input_dim=train_ds.shape[1],\\n    dim_hidden=64,\\n    num_hidden=3,\\n    dropout=0.1\\n).to(device)\\n\\nencoder.load_state_dict(torch.load(\"encoder_f.pth\"))\\nencoder.eval()  # 推論用\\n'"
            ]
          },
          "execution_count": 51,
          "metadata": {},
          "output_type": "execute_result"
        }
      ]
    },
    {
      "cell_type": "code",
      "source": [
        "print(pl_scarf.scarf_model.encoder)\n",
        "# ✅ 4. 取得train_ds 經過 f(x)的 embedding\n",
        "device = torch.device(\"cuda\" if torch.cuda.is_available() else \"cpu\")\n",
        "pl_scarf.to(device)\n",
        "with torch.no_grad():\n",
        "    x_tensor = torch.tensor(train_ds.data, dtype=torch.float32).to(device)  # PyTorch Dataset 物件轉換為 PyTorch tensor\n",
        "    embeddings_train = pl_scarf.scarf_model.encoder(x_tensor).cpu().numpy() # 將從 GPU 計算得到的 embeddings tensor 複製回 CPU。這是因為後續的 numpy() 方法只能在 CPU tensor 上執行。\n",
        "print(\"Embeddings shape:\", embeddings_train.shape)"
      ],
      "metadata": {
        "colab": {
          "base_uri": "https://localhost:8080/"
        },
        "id": "MnPNy35As3XC",
        "outputId": "69e062ce-4fad-4c00-9e7e-160ec05cc0df"
      },
      "execution_count": 52,
      "outputs": [
        {
          "output_type": "stream",
          "name": "stdout",
          "text": [
            "MLP(\n",
            "  (0): Linear(in_features=29, out_features=64, bias=True)\n",
            "  (1): BatchNorm1d(64, eps=1e-05, momentum=0.1, affine=True, track_running_stats=True)\n",
            "  (2): ReLU(inplace=True)\n",
            "  (3): Dropout(p=0.1, inplace=False)\n",
            "  (4): Linear(in_features=64, out_features=64, bias=True)\n",
            "  (5): BatchNorm1d(64, eps=1e-05, momentum=0.1, affine=True, track_running_stats=True)\n",
            "  (6): ReLU(inplace=True)\n",
            "  (7): Dropout(p=0.1, inplace=False)\n",
            "  (8): Linear(in_features=64, out_features=64, bias=True)\n",
            ")\n",
            "Embeddings shape: (100778, 64)\n"
          ]
        }
      ]
    },
    {
      "cell_type": "markdown",
      "source": [
        "# 保存train .npz檔\n",
        "{\n",
        "  'X': ...  # 原始資料 (如 shape=[N, 64, 64, 3])\n",
        "  'Y': ...  # 對應的lebal\n",
        "  'Z': ...  # embeddings(如 shape=[N, 128])\n",
        "}\n"
      ],
      "metadata": {
        "id": "n-u3nhWVysYc"
      }
    },
    {
      "cell_type": "code",
      "source": [
        "\n",
        "# Save embeddings\n",
        "output_dir = \"data/scarf_encodings\"\n",
        "os.makedirs(output_dir, exist_ok=True)\n",
        "\n",
        "# Get X=original Y=labels Z=embeddings\n",
        "X_train= train_ds.data\n",
        "Y_train= train_ds.target\n",
        "Z_train= embeddings_train\n",
        "\n",
        "\n",
        "# Save train split\n",
        "train_path = os.path.join(output_dir, f\"nslkdd_{Z_train.shape[1]}_train.npz\")\n",
        "print(f\"Saving train embeddings to {train_path}\")\n",
        "np.savez(train_path,\n",
        "          X=X_train,      # Original features\n",
        "          Y=Y_train,                        # Labels\n",
        "          Z=Z_train.astype(np.float32))    # Embeddings\n"
      ],
      "metadata": {
        "colab": {
          "base_uri": "https://localhost:8080/"
        },
        "id": "QeA4dy7PyrAq",
        "outputId": "ab9fdf6e-9722-4481-e898-3cfa689e7a62"
      },
      "execution_count": 53,
      "outputs": [
        {
          "output_type": "stream",
          "name": "stdout",
          "text": [
            "Saving train embeddings to data/scarf_encodings/nslkdd_64_train.npz\n"
          ]
        }
      ]
    },
    {
      "cell_type": "markdown",
      "source": [
        "# 取得test_ds的embeddings"
      ],
      "metadata": {
        "id": "_3bQMQ_l1Oap"
      }
    },
    {
      "cell_type": "code",
      "source": [
        "'''\n",
        "# 重新載入 f()（在其他地方用）\n",
        "# 你必須重新建立 encoder 架構（要一樣的超參數）\n",
        "encoder = Encoder(\n",
        "    input_dim=train_ds.shape[1],\n",
        "    dim_hidden=64,\n",
        "    num_hidden=3,\n",
        "    dropout=0.1\n",
        ").to(device)\n",
        "\n",
        "encoder.load_state_dict(torch.load(\"encoder_f.pth\"))\n",
        "encoder.eval()  # 推論用\n",
        "'''"
      ],
      "metadata": {
        "colab": {
          "base_uri": "https://localhost:8080/",
          "height": 89
        },
        "id": "88oedys61Oaq",
        "outputId": "2e583e28-f0b0-4adf-f311-970bc6b0faed"
      },
      "execution_count": 54,
      "outputs": [
        {
          "output_type": "execute_result",
          "data": {
            "text/plain": [
              "'\\n# 重新載入 f()（在其他地方用）\\n# 你必須重新建立 encoder 架構（要一樣的超參數）\\nencoder = Encoder(\\n    input_dim=train_ds.shape[1],\\n    dim_hidden=64,\\n    num_hidden=3,\\n    dropout=0.1\\n).to(device)\\n\\nencoder.load_state_dict(torch.load(\"encoder_f.pth\"))\\nencoder.eval()  # 推論用\\n'"
            ],
            "application/vnd.google.colaboratory.intrinsic+json": {
              "type": "string"
            }
          },
          "metadata": {},
          "execution_count": 54
        }
      ]
    },
    {
      "cell_type": "code",
      "source": [
        "print(pl_scarf.scarf_model.encoder)\n",
        "# ✅ 4. 取得test_ds 經過 f(x)的 embedding\n",
        "device = torch.device(\"cuda\" if torch.cuda.is_available() else \"cpu\")\n",
        "pl_scarf.to(device)\n",
        "with torch.no_grad():\n",
        "    x_tensor = torch.tensor(test_ds.data, dtype=torch.float32).to(device)  # PyTorch Dataset 物件轉換為 PyTorch tensor\n",
        "    embeddings_test = pl_scarf.scarf_model.encoder(x_tensor).cpu().numpy() # 將從 GPU 計算得到的 embeddings tensor 複製回 CPU。這是因為後續的 numpy() 方法只能在 CPU tensor 上執行。\n",
        "print(\"Embeddings shape:\", embeddings_test.shape)"
      ],
      "metadata": {
        "colab": {
          "base_uri": "https://localhost:8080/"
        },
        "outputId": "59cabf0b-8bf2-4ede-f030-3b7da0b0a0af",
        "id": "7jcgKWYx1Oaq"
      },
      "execution_count": 55,
      "outputs": [
        {
          "output_type": "stream",
          "name": "stdout",
          "text": [
            "MLP(\n",
            "  (0): Linear(in_features=29, out_features=64, bias=True)\n",
            "  (1): BatchNorm1d(64, eps=1e-05, momentum=0.1, affine=True, track_running_stats=True)\n",
            "  (2): ReLU(inplace=True)\n",
            "  (3): Dropout(p=0.1, inplace=False)\n",
            "  (4): Linear(in_features=64, out_features=64, bias=True)\n",
            "  (5): BatchNorm1d(64, eps=1e-05, momentum=0.1, affine=True, track_running_stats=True)\n",
            "  (6): ReLU(inplace=True)\n",
            "  (7): Dropout(p=0.1, inplace=False)\n",
            "  (8): Linear(in_features=64, out_features=64, bias=True)\n",
            ")\n",
            "Embeddings shape: (25195, 64)\n"
          ]
        }
      ]
    },
    {
      "cell_type": "markdown",
      "source": [
        "# 保存test .npz檔\n",
        "{\n",
        "  'X': ...  # 原始資料 (如 shape=[N, 64, 64, 3])\n",
        "  'Y': ...  # 對應的lebal\n",
        "  'Z': ...  # embeddings(如 shape=[N, 128])\n",
        "}\n"
      ],
      "metadata": {
        "id": "XaavuBgR5DTS"
      }
    },
    {
      "cell_type": "code",
      "source": [
        "\n",
        "# Save embeddings\n",
        "output_dir = \"data/scarf_encodings\"\n",
        "os.makedirs(output_dir, exist_ok=True)\n",
        "\n",
        "# Get X=original Y=labels Z=embeddings\n",
        "X_test= test_ds.data\n",
        "Y_test= test_ds.target\n",
        "Z_test= embeddings_test\n",
        "\n",
        "\n",
        "# Save test split\n",
        "test_path = os.path.join(output_dir, f\"nslkdd_{Z_train.shape[1]}_test.npz\")\n",
        "print(f\"Saving test embeddings to {test_path}\")\n",
        "np.savez(test_path,\n",
        "          X=X_test,      # Original features\n",
        "          Y=Y_test,                        # Labels\n",
        "          Z=Z_test.astype(np.float32))    # Embeddings\n"
      ],
      "metadata": {
        "colab": {
          "base_uri": "https://localhost:8080/"
        },
        "id": "1n_xwesk5DTT",
        "outputId": "b9b2bc99-928c-4e02-ae1c-01a681d13efb"
      },
      "execution_count": 56,
      "outputs": [
        {
          "output_type": "stream",
          "name": "stdout",
          "text": [
            "Saving test embeddings to data/scarf_encodings/nslkdd_64_test.npz\n"
          ]
        }
      ]
    }
  ],
  "metadata": {
    "kernelspec": {
      "display_name": "Python 3",
      "name": "python3"
    },
    "language_info": {
      "name": "python"
    },
    "colab": {
      "provenance": [],
      "gpuType": "T4",
      "include_colab_link": true
    },
    "accelerator": "GPU",
    "widgets": {
      "application/vnd.jupyter.widget-state+json": {
        "0c5907d243f64a0ba43ad8ee80328a27": {
          "model_module": "@jupyter-widgets/controls",
          "model_name": "HBoxModel",
          "model_module_version": "1.5.0",
          "state": {
            "_dom_classes": [],
            "_model_module": "@jupyter-widgets/controls",
            "_model_module_version": "1.5.0",
            "_model_name": "HBoxModel",
            "_view_count": null,
            "_view_module": "@jupyter-widgets/controls",
            "_view_module_version": "1.5.0",
            "_view_name": "HBoxView",
            "box_style": "",
            "children": [
              "IPY_MODEL_10fb03bc73f74f05bca036c7a7faa64c",
              "IPY_MODEL_684fc3dfc7404f07ab4056d701e4a2bb",
              "IPY_MODEL_d31a4c914fdf4bee84854c6782ba4f5f"
            ],
            "layout": "IPY_MODEL_7c72ce8c282841d6b8a4ebee421f5a2d"
          }
        },
        "10fb03bc73f74f05bca036c7a7faa64c": {
          "model_module": "@jupyter-widgets/controls",
          "model_name": "HTMLModel",
          "model_module_version": "1.5.0",
          "state": {
            "_dom_classes": [],
            "_model_module": "@jupyter-widgets/controls",
            "_model_module_version": "1.5.0",
            "_model_name": "HTMLModel",
            "_view_count": null,
            "_view_module": "@jupyter-widgets/controls",
            "_view_module_version": "1.5.0",
            "_view_name": "HTMLView",
            "description": "",
            "description_tooltip": null,
            "layout": "IPY_MODEL_c596af84823b4b36b0a6289c1557f625",
            "placeholder": "​",
            "style": "IPY_MODEL_34a2cded2eb14f3bb538eec5163ba4c2",
            "value": "Epoch 999: 100%"
          }
        },
        "684fc3dfc7404f07ab4056d701e4a2bb": {
          "model_module": "@jupyter-widgets/controls",
          "model_name": "FloatProgressModel",
          "model_module_version": "1.5.0",
          "state": {
            "_dom_classes": [],
            "_model_module": "@jupyter-widgets/controls",
            "_model_module_version": "1.5.0",
            "_model_name": "FloatProgressModel",
            "_view_count": null,
            "_view_module": "@jupyter-widgets/controls",
            "_view_module_version": "1.5.0",
            "_view_name": "ProgressView",
            "bar_style": "success",
            "description": "",
            "description_tooltip": null,
            "layout": "IPY_MODEL_d884879c942a4da89911b6447d6340d0",
            "max": 788,
            "min": 0,
            "orientation": "horizontal",
            "style": "IPY_MODEL_3a5e51415756469c8c918b633dc0eb33",
            "value": 788
          }
        },
        "d31a4c914fdf4bee84854c6782ba4f5f": {
          "model_module": "@jupyter-widgets/controls",
          "model_name": "HTMLModel",
          "model_module_version": "1.5.0",
          "state": {
            "_dom_classes": [],
            "_model_module": "@jupyter-widgets/controls",
            "_model_module_version": "1.5.0",
            "_model_name": "HTMLModel",
            "_view_count": null,
            "_view_module": "@jupyter-widgets/controls",
            "_view_module_version": "1.5.0",
            "_view_name": "HTMLView",
            "description": "",
            "description_tooltip": null,
            "layout": "IPY_MODEL_4d566029b51846f4b6dc04de6f73fbd5",
            "placeholder": "​",
            "style": "IPY_MODEL_1b86386223d74c1eb7b5b1bc3a71db13",
            "value": " 788/788 [00:06&lt;00:00, 113.77it/s, v_num=0]"
          }
        },
        "7c72ce8c282841d6b8a4ebee421f5a2d": {
          "model_module": "@jupyter-widgets/base",
          "model_name": "LayoutModel",
          "model_module_version": "1.2.0",
          "state": {
            "_model_module": "@jupyter-widgets/base",
            "_model_module_version": "1.2.0",
            "_model_name": "LayoutModel",
            "_view_count": null,
            "_view_module": "@jupyter-widgets/base",
            "_view_module_version": "1.2.0",
            "_view_name": "LayoutView",
            "align_content": null,
            "align_items": null,
            "align_self": null,
            "border": null,
            "bottom": null,
            "display": "inline-flex",
            "flex": null,
            "flex_flow": "row wrap",
            "grid_area": null,
            "grid_auto_columns": null,
            "grid_auto_flow": null,
            "grid_auto_rows": null,
            "grid_column": null,
            "grid_gap": null,
            "grid_row": null,
            "grid_template_areas": null,
            "grid_template_columns": null,
            "grid_template_rows": null,
            "height": null,
            "justify_content": null,
            "justify_items": null,
            "left": null,
            "margin": null,
            "max_height": null,
            "max_width": null,
            "min_height": null,
            "min_width": null,
            "object_fit": null,
            "object_position": null,
            "order": null,
            "overflow": null,
            "overflow_x": null,
            "overflow_y": null,
            "padding": null,
            "right": null,
            "top": null,
            "visibility": null,
            "width": "100%"
          }
        },
        "c596af84823b4b36b0a6289c1557f625": {
          "model_module": "@jupyter-widgets/base",
          "model_name": "LayoutModel",
          "model_module_version": "1.2.0",
          "state": {
            "_model_module": "@jupyter-widgets/base",
            "_model_module_version": "1.2.0",
            "_model_name": "LayoutModel",
            "_view_count": null,
            "_view_module": "@jupyter-widgets/base",
            "_view_module_version": "1.2.0",
            "_view_name": "LayoutView",
            "align_content": null,
            "align_items": null,
            "align_self": null,
            "border": null,
            "bottom": null,
            "display": null,
            "flex": null,
            "flex_flow": null,
            "grid_area": null,
            "grid_auto_columns": null,
            "grid_auto_flow": null,
            "grid_auto_rows": null,
            "grid_column": null,
            "grid_gap": null,
            "grid_row": null,
            "grid_template_areas": null,
            "grid_template_columns": null,
            "grid_template_rows": null,
            "height": null,
            "justify_content": null,
            "justify_items": null,
            "left": null,
            "margin": null,
            "max_height": null,
            "max_width": null,
            "min_height": null,
            "min_width": null,
            "object_fit": null,
            "object_position": null,
            "order": null,
            "overflow": null,
            "overflow_x": null,
            "overflow_y": null,
            "padding": null,
            "right": null,
            "top": null,
            "visibility": null,
            "width": null
          }
        },
        "34a2cded2eb14f3bb538eec5163ba4c2": {
          "model_module": "@jupyter-widgets/controls",
          "model_name": "DescriptionStyleModel",
          "model_module_version": "1.5.0",
          "state": {
            "_model_module": "@jupyter-widgets/controls",
            "_model_module_version": "1.5.0",
            "_model_name": "DescriptionStyleModel",
            "_view_count": null,
            "_view_module": "@jupyter-widgets/base",
            "_view_module_version": "1.2.0",
            "_view_name": "StyleView",
            "description_width": ""
          }
        },
        "d884879c942a4da89911b6447d6340d0": {
          "model_module": "@jupyter-widgets/base",
          "model_name": "LayoutModel",
          "model_module_version": "1.2.0",
          "state": {
            "_model_module": "@jupyter-widgets/base",
            "_model_module_version": "1.2.0",
            "_model_name": "LayoutModel",
            "_view_count": null,
            "_view_module": "@jupyter-widgets/base",
            "_view_module_version": "1.2.0",
            "_view_name": "LayoutView",
            "align_content": null,
            "align_items": null,
            "align_self": null,
            "border": null,
            "bottom": null,
            "display": null,
            "flex": "2",
            "flex_flow": null,
            "grid_area": null,
            "grid_auto_columns": null,
            "grid_auto_flow": null,
            "grid_auto_rows": null,
            "grid_column": null,
            "grid_gap": null,
            "grid_row": null,
            "grid_template_areas": null,
            "grid_template_columns": null,
            "grid_template_rows": null,
            "height": null,
            "justify_content": null,
            "justify_items": null,
            "left": null,
            "margin": null,
            "max_height": null,
            "max_width": null,
            "min_height": null,
            "min_width": null,
            "object_fit": null,
            "object_position": null,
            "order": null,
            "overflow": null,
            "overflow_x": null,
            "overflow_y": null,
            "padding": null,
            "right": null,
            "top": null,
            "visibility": null,
            "width": null
          }
        },
        "3a5e51415756469c8c918b633dc0eb33": {
          "model_module": "@jupyter-widgets/controls",
          "model_name": "ProgressStyleModel",
          "model_module_version": "1.5.0",
          "state": {
            "_model_module": "@jupyter-widgets/controls",
            "_model_module_version": "1.5.0",
            "_model_name": "ProgressStyleModel",
            "_view_count": null,
            "_view_module": "@jupyter-widgets/base",
            "_view_module_version": "1.2.0",
            "_view_name": "StyleView",
            "bar_color": null,
            "description_width": ""
          }
        },
        "4d566029b51846f4b6dc04de6f73fbd5": {
          "model_module": "@jupyter-widgets/base",
          "model_name": "LayoutModel",
          "model_module_version": "1.2.0",
          "state": {
            "_model_module": "@jupyter-widgets/base",
            "_model_module_version": "1.2.0",
            "_model_name": "LayoutModel",
            "_view_count": null,
            "_view_module": "@jupyter-widgets/base",
            "_view_module_version": "1.2.0",
            "_view_name": "LayoutView",
            "align_content": null,
            "align_items": null,
            "align_self": null,
            "border": null,
            "bottom": null,
            "display": null,
            "flex": null,
            "flex_flow": null,
            "grid_area": null,
            "grid_auto_columns": null,
            "grid_auto_flow": null,
            "grid_auto_rows": null,
            "grid_column": null,
            "grid_gap": null,
            "grid_row": null,
            "grid_template_areas": null,
            "grid_template_columns": null,
            "grid_template_rows": null,
            "height": null,
            "justify_content": null,
            "justify_items": null,
            "left": null,
            "margin": null,
            "max_height": null,
            "max_width": null,
            "min_height": null,
            "min_width": null,
            "object_fit": null,
            "object_position": null,
            "order": null,
            "overflow": null,
            "overflow_x": null,
            "overflow_y": null,
            "padding": null,
            "right": null,
            "top": null,
            "visibility": null,
            "width": null
          }
        },
        "1b86386223d74c1eb7b5b1bc3a71db13": {
          "model_module": "@jupyter-widgets/controls",
          "model_name": "DescriptionStyleModel",
          "model_module_version": "1.5.0",
          "state": {
            "_model_module": "@jupyter-widgets/controls",
            "_model_module_version": "1.5.0",
            "_model_name": "DescriptionStyleModel",
            "_view_count": null,
            "_view_module": "@jupyter-widgets/base",
            "_view_module_version": "1.2.0",
            "_view_name": "StyleView",
            "description_width": ""
          }
        }
      }
    }
  },
  "nbformat": 4,
  "nbformat_minor": 0
}